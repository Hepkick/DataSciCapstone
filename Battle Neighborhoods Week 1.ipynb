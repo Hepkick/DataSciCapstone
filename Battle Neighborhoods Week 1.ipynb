{
 "cells": [
  {
   "cell_type": "markdown",
   "metadata": {},
   "source": [
    "For this week, you will required to submit the following:\n",
    "\n",
    "    A description of the problem and a discussion of the background. (15 marks)\n",
    "    A description of the data and how it will be used to solve the problem. (15 marks)"
   ]
  },
  {
   "cell_type": "markdown",
   "metadata": {},
   "source": [
    "# Introduction: Business Problem of knowledge of neighborhood for real estate agent\n",
    "\n",
    "## Real estate agents and customers have a symbiotic relationship. Agents compete for the same customers and customers want to find best home and best neighborhood for their family. Deep knowledge of the benefits of each neighborhood brings an advantage in agent competition. From a real estate point of view there is battle of neighborhoods.\n",
    "\n",
    "## To provide targeted information about sold properties in the Helsinki, Finland I will use the Foursquare API.  I will also cluster and categorize living areas to precisely identify unique characteristics of that area --for example parks and cafés. This makes difference when agent has sales meeting with owner. This information can be even crucial when families deciding where they are going to move and buy new home."
   ]
  },
  {
   "cell_type": "markdown",
   "metadata": {},
   "source": [
    "# Data \n",
    "## Based on the definition of our problem above, factors that will help real estate agents include:\n",
    "\n",
    "  ### All venues of neighborhood\n",
    "  ### Top venue categories in neighborhood\n",
    "  ### Overall style for example cafés and parks\n",
    "\n",
    "## The following data sources will be needed to generate the required information:\n",
    "\n",
    "  ### Wikipedia page of Helsinki neighborhood including\n",
    "  ### All venues or neigborhood area through Foursqueare API\n",
    "  ### Geolocator to get coordinates of neighborhoods\n",
    "\n",
    "## The explore function will be used to get the most common venue categories in each neighborhood of Helsinki. We will also cluster neighborhoods to give similarity information to end customer."
   ]
  },
  {
   "cell_type": "code",
   "execution_count": null,
   "metadata": {},
   "outputs": [],
   "source": []
  }
 ],
 "metadata": {
  "kernelspec": {
   "display_name": "Python",
   "language": "python",
   "name": "conda-env-python-py"
  },
  "language_info": {
   "codemirror_mode": {
    "name": "ipython",
    "version": 3
   },
   "file_extension": ".py",
   "mimetype": "text/x-python",
   "name": "python",
   "nbconvert_exporter": "python",
   "pygments_lexer": "ipython3",
   "version": "3.6.7"
  }
 },
 "nbformat": 4,
 "nbformat_minor": 4
}
